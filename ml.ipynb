{
 "cells": [
  {
   "cell_type": "code",
   "execution_count": 26,
   "metadata": {},
   "outputs": [],
   "source": [
    "import yaml\n",
    "import awkward as aw\n",
    "import uproot\n",
    "import hist\n",
    "import math\n",
    "import numpy as np\n",
    "from scipy.stats import kstest\n",
    "from imblearn.under_sampling import RandomUnderSampler\n",
    "from imblearn.over_sampling import RandomOverSampler, SMOTE, BorderlineSMOTE\n",
    "from IPython.display import Audio\n",
    "from matplotlib.offsetbox import AnchoredText\n",
    "import joblib\n",
    "from util import * \n",
    "\n",
    "import random\n",
    "import time\n",
    "\n",
    "import seaborn as sns\n",
    "import matplotlib.pyplot as plt\n",
    "import cloudpickle\n",
    "import pickle\n",
    "\n",
    "from sklearn.metrics import mean_squared_error\n",
    "from sklearn.metrics import ConfusionMatrixDisplay,  classification_report\n",
    "\n",
    "from sklearn.metrics import accuracy_score, mean_squared_error\n",
    "from sklearn.model_selection import train_test_split, GridSearchCV, cross_validate, cross_val_score\n",
    "from sklearn.metrics import confusion_matrix\n",
    "from sklearn.preprocessing import MinMaxScaler\n",
    "import xgboost as xgb\n"
   ]
  },
  {
   "cell_type": "code",
   "execution_count": 2,
   "metadata": {},
   "outputs": [],
   "source": [
    "datasets = ['frvz_ggf_508885', 'frvz_ggf_508886', 'frvz_ggf_508887', 'frvz_ggf_508888', 'frvz_ggf_508889', 'frvz_ggf_508890', 'frvz_ggf_508891',\n",
    "            'frvz_ggf_508892', 'frvz_ggf_508893', 'frvz_vbf_500757_02-00', 'frvz_vbf_500758_02-00',\n",
    "            'frvz_vbf_500759_02-00', 'frvz_vbf_500760_02-00', 'frvz_vbf_500761_02-00', 'frvz_vbf_500762_02-00', 'frvz_vbf_500763_02-00', 'frvz_vbf_500764_02-00']\n",
    "\n",
    "BDT_inputs = ['mjj', \"dphijj\", \"detajj\",\n",
    "              'MET',\n",
    "              'jet1_pt',\n",
    "              'jet1_eta',\n",
    "              'jet1_e',\n",
    "              'jet2_pt',\n",
    "              'jet2_eta',\n",
    "              'jet2_e',\n",
    "                \"njet30\", \n",
    "            #  \"centrality\"\n",
    "            'intLumi',\n",
    "            'scale1fb'\n",
    "             ]"
   ]
  },
  {
   "cell_type": "code",
   "execution_count": 3,
   "metadata": {},
   "outputs": [
    {
     "name": "stdout",
     "output_type": "stream",
     "text": [
      "frvz_ggf_508885\n",
      "frvz_ggf_508886\n",
      "frvz_ggf_508887\n",
      "frvz_ggf_508888\n",
      "frvz_ggf_508889\n",
      "frvz_ggf_508890\n",
      "frvz_ggf_508891\n",
      "frvz_ggf_508892\n",
      "frvz_ggf_508893\n",
      "frvz_vbf_500757_02-00\n",
      "frvz_vbf_500758_02-00\n",
      "frvz_vbf_500759_02-00\n",
      "frvz_vbf_500760_02-00\n",
      "frvz_vbf_500761_02-00\n",
      "frvz_vbf_500762_02-00\n",
      "frvz_vbf_500763_02-00\n",
      "frvz_vbf_500764_02-00\n"
     ]
    }
   ],
   "source": [
    "df = read_data(datasets = datasets, variables=BDT_inputs, carpeta='C:/Users/jav90/Desktop/dpj/production_analysis/analisis_javier/Samples/')"
   ]
  },
  {
   "cell_type": "code",
   "execution_count": 4,
   "metadata": {},
   "outputs": [],
   "source": [
    "df1 = df.copy()\n",
    "df1 = df1[df1['weights'] >= 0] #eliminar weights negativos y ceros\n",
    "df1['VBF label'] = df1['tipo'].apply(lambda x: 1 if x == 'vbf' else 0) #crear columna con 1 para vbf y 0 para ggf\n"
   ]
  },
  {
   "cell_type": "code",
   "execution_count": 5,
   "metadata": {},
   "outputs": [
    {
     "data": {
      "text/plain": [
       "(4628576, 15)"
      ]
     },
     "execution_count": 5,
     "metadata": {},
     "output_type": "execute_result"
    }
   ],
   "source": [
    "df.shape"
   ]
  },
  {
   "cell_type": "code",
   "execution_count": 7,
   "metadata": {},
   "outputs": [],
   "source": [
    "ml_var = ['mjj', \"dphijj\", \"detajj\", 'MET',\n",
    "              'jet1_pt',\n",
    "              'jet1_eta',\n",
    "              'jet1_e',\n",
    "              'jet2_pt',\n",
    "              'jet2_eta',\n",
    "              'jet2_e',\n",
    "              'njet30']\n",
    "\n",
    "\n",
    "\n",
    "X_ggf = df1[df1['tipo'] == 'ggf'].sample(n=2000000, random_state=228)\n",
    "X_ggf = X_ggf[X_ggf['njet30'] > 1]\n",
    "\n",
    "X_vbf = df1[df1['tipo'] == 'vbf']\n",
    "X_ggf_vbf = pd.concat([X_ggf, X_vbf], axis=0)\n",
    "X = X_ggf_vbf[ml_var]\n",
    "y = X_ggf_vbf['VBF label']\n"
   ]
  },
  {
   "cell_type": "code",
   "execution_count": 8,
   "metadata": {},
   "outputs": [
    {
     "name": "stdout",
     "output_type": "stream",
     "text": [
      "(736060, 16)\n",
      "(491044, 16)\n"
     ]
    }
   ],
   "source": [
    "print(X_ggf.shape)\n",
    "print(X_vbf.shape)\n"
   ]
  },
  {
   "cell_type": "code",
   "execution_count": 9,
   "metadata": {},
   "outputs": [
    {
     "data": {
      "text/html": [
       "<div>\n",
       "<style scoped>\n",
       "    .dataframe tbody tr th:only-of-type {\n",
       "        vertical-align: middle;\n",
       "    }\n",
       "\n",
       "    .dataframe tbody tr th {\n",
       "        vertical-align: top;\n",
       "    }\n",
       "\n",
       "    .dataframe thead th {\n",
       "        text-align: right;\n",
       "    }\n",
       "</style>\n",
       "<table border=\"1\" class=\"dataframe\">\n",
       "  <thead>\n",
       "    <tr style=\"text-align: right;\">\n",
       "      <th></th>\n",
       "      <th>mjj</th>\n",
       "      <th>dphijj</th>\n",
       "      <th>detajj</th>\n",
       "      <th>MET</th>\n",
       "      <th>jet1_pt</th>\n",
       "      <th>jet1_eta</th>\n",
       "      <th>jet1_e</th>\n",
       "      <th>jet2_pt</th>\n",
       "      <th>jet2_eta</th>\n",
       "      <th>jet2_e</th>\n",
       "      <th>njet30</th>\n",
       "      <th>intLumi</th>\n",
       "      <th>scale1fb</th>\n",
       "      <th>weights</th>\n",
       "      <th>tipo</th>\n",
       "      <th>VBF label</th>\n",
       "    </tr>\n",
       "  </thead>\n",
       "  <tbody>\n",
       "    <tr>\n",
       "      <th>1922897</th>\n",
       "      <td>4.135178e+04</td>\n",
       "      <td>-1.388952</td>\n",
       "      <td>0.015607</td>\n",
       "      <td>39954.585938</td>\n",
       "      <td>31994.083984</td>\n",
       "      <td>0.574745</td>\n",
       "      <td>3.799173e+04</td>\n",
       "      <td>30211.220703</td>\n",
       "      <td>0.590351</td>\n",
       "      <td>3.592268e+04</td>\n",
       "      <td>2</td>\n",
       "      <td>36.099998</td>\n",
       "      <td>0.041837</td>\n",
       "      <td>1.510301</td>\n",
       "      <td>ggf</td>\n",
       "      <td>0</td>\n",
       "    </tr>\n",
       "    <tr>\n",
       "      <th>2076601</th>\n",
       "      <td>2.022060e+05</td>\n",
       "      <td>2.939579</td>\n",
       "      <td>1.369800</td>\n",
       "      <td>99959.726562</td>\n",
       "      <td>118938.937500</td>\n",
       "      <td>0.153307</td>\n",
       "      <td>1.219211e+05</td>\n",
       "      <td>54682.148438</td>\n",
       "      <td>-1.216493</td>\n",
       "      <td>1.008361e+05</td>\n",
       "      <td>6</td>\n",
       "      <td>44.299999</td>\n",
       "      <td>0.000452</td>\n",
       "      <td>0.020022</td>\n",
       "      <td>ggf</td>\n",
       "      <td>0</td>\n",
       "    </tr>\n",
       "    <tr>\n",
       "      <th>4102287</th>\n",
       "      <td>6.640849e+05</td>\n",
       "      <td>2.925986</td>\n",
       "      <td>5.606311</td>\n",
       "      <td>16936.062500</td>\n",
       "      <td>48726.402344</td>\n",
       "      <td>2.052103</td>\n",
       "      <td>1.928805e+05</td>\n",
       "      <td>33005.652344</td>\n",
       "      <td>-3.554208</td>\n",
       "      <td>5.774382e+05</td>\n",
       "      <td>2</td>\n",
       "      <td>58.450001</td>\n",
       "      <td>0.031009</td>\n",
       "      <td>1.812492</td>\n",
       "      <td>ggf</td>\n",
       "      <td>0</td>\n",
       "    </tr>\n",
       "    <tr>\n",
       "      <th>1028220</th>\n",
       "      <td>6.245890e+04</td>\n",
       "      <td>0.889752</td>\n",
       "      <td>1.364045</td>\n",
       "      <td>69531.718750</td>\n",
       "      <td>36784.332031</td>\n",
       "      <td>2.508739</td>\n",
       "      <td>2.275718e+05</td>\n",
       "      <td>35335.957031</td>\n",
       "      <td>1.144695</td>\n",
       "      <td>6.129078e+04</td>\n",
       "      <td>2</td>\n",
       "      <td>36.099998</td>\n",
       "      <td>0.045243</td>\n",
       "      <td>1.633280</td>\n",
       "      <td>ggf</td>\n",
       "      <td>0</td>\n",
       "    </tr>\n",
       "    <tr>\n",
       "      <th>1920149</th>\n",
       "      <td>1.074340e+05</td>\n",
       "      <td>2.418122</td>\n",
       "      <td>1.041257</td>\n",
       "      <td>17352.517578</td>\n",
       "      <td>60429.839844</td>\n",
       "      <td>0.916951</td>\n",
       "      <td>8.790906e+04</td>\n",
       "      <td>39658.742188</td>\n",
       "      <td>-0.124306</td>\n",
       "      <td>4.094811e+04</td>\n",
       "      <td>2</td>\n",
       "      <td>36.099998</td>\n",
       "      <td>0.040848</td>\n",
       "      <td>1.474623</td>\n",
       "      <td>ggf</td>\n",
       "      <td>0</td>\n",
       "    </tr>\n",
       "    <tr>\n",
       "      <th>...</th>\n",
       "      <td>...</td>\n",
       "      <td>...</td>\n",
       "      <td>...</td>\n",
       "      <td>...</td>\n",
       "      <td>...</td>\n",
       "      <td>...</td>\n",
       "      <td>...</td>\n",
       "      <td>...</td>\n",
       "      <td>...</td>\n",
       "      <td>...</td>\n",
       "      <td>...</td>\n",
       "      <td>...</td>\n",
       "      <td>...</td>\n",
       "      <td>...</td>\n",
       "      <td>...</td>\n",
       "      <td>...</td>\n",
       "    </tr>\n",
       "    <tr>\n",
       "      <th>4628571</th>\n",
       "      <td>1.367926e+06</td>\n",
       "      <td>0.648911</td>\n",
       "      <td>4.957650</td>\n",
       "      <td>216401.265625</td>\n",
       "      <td>116440.851562</td>\n",
       "      <td>-3.211884</td>\n",
       "      <td>1.447791e+06</td>\n",
       "      <td>114172.210938</td>\n",
       "      <td>1.745765</td>\n",
       "      <td>3.373078e+05</td>\n",
       "      <td>2</td>\n",
       "      <td>36.099998</td>\n",
       "      <td>0.000256</td>\n",
       "      <td>0.009256</td>\n",
       "      <td>vbf</td>\n",
       "      <td>1</td>\n",
       "    </tr>\n",
       "    <tr>\n",
       "      <th>4628572</th>\n",
       "      <td>1.540464e+06</td>\n",
       "      <td>-0.568785</td>\n",
       "      <td>5.033163</td>\n",
       "      <td>191440.421875</td>\n",
       "      <td>134930.218750</td>\n",
       "      <td>3.088001</td>\n",
       "      <td>1.482836e+06</td>\n",
       "      <td>115863.156250</td>\n",
       "      <td>-1.945162</td>\n",
       "      <td>4.136839e+05</td>\n",
       "      <td>3</td>\n",
       "      <td>36.099998</td>\n",
       "      <td>0.000305</td>\n",
       "      <td>0.011002</td>\n",
       "      <td>vbf</td>\n",
       "      <td>1</td>\n",
       "    </tr>\n",
       "    <tr>\n",
       "      <th>4628573</th>\n",
       "      <td>1.694813e+06</td>\n",
       "      <td>-2.918931</td>\n",
       "      <td>5.825066</td>\n",
       "      <td>35132.878906</td>\n",
       "      <td>110081.000000</td>\n",
       "      <td>3.609008</td>\n",
       "      <td>2.034103e+06</td>\n",
       "      <td>76587.546875</td>\n",
       "      <td>-2.216058</td>\n",
       "      <td>3.554840e+05</td>\n",
       "      <td>2</td>\n",
       "      <td>1.000000</td>\n",
       "      <td>0.000271</td>\n",
       "      <td>0.000271</td>\n",
       "      <td>vbf</td>\n",
       "      <td>1</td>\n",
       "    </tr>\n",
       "    <tr>\n",
       "      <th>4628574</th>\n",
       "      <td>7.387971e+05</td>\n",
       "      <td>0.789625</td>\n",
       "      <td>5.037199</td>\n",
       "      <td>97912.656250</td>\n",
       "      <td>105132.671875</td>\n",
       "      <td>-0.351721</td>\n",
       "      <td>1.122496e+05</td>\n",
       "      <td>33879.730469</td>\n",
       "      <td>4.685478</td>\n",
       "      <td>1.835801e+06</td>\n",
       "      <td>3</td>\n",
       "      <td>36.099998</td>\n",
       "      <td>0.000282</td>\n",
       "      <td>0.010165</td>\n",
       "      <td>vbf</td>\n",
       "      <td>1</td>\n",
       "    </tr>\n",
       "    <tr>\n",
       "      <th>4628575</th>\n",
       "      <td>1.889988e+06</td>\n",
       "      <td>-1.190403</td>\n",
       "      <td>5.106238</td>\n",
       "      <td>213900.062500</td>\n",
       "      <td>192589.812500</td>\n",
       "      <td>2.780378</td>\n",
       "      <td>1.558812e+06</td>\n",
       "      <td>112864.968750</td>\n",
       "      <td>-2.325860</td>\n",
       "      <td>5.831626e+05</td>\n",
       "      <td>2</td>\n",
       "      <td>36.099998</td>\n",
       "      <td>0.000330</td>\n",
       "      <td>0.011909</td>\n",
       "      <td>vbf</td>\n",
       "      <td>1</td>\n",
       "    </tr>\n",
       "  </tbody>\n",
       "</table>\n",
       "<p>1227104 rows × 16 columns</p>\n",
       "</div>"
      ],
      "text/plain": [
       "                  mjj    dphijj    detajj            MET        jet1_pt  \\\n",
       "1922897  4.135178e+04 -1.388952  0.015607   39954.585938   31994.083984   \n",
       "2076601  2.022060e+05  2.939579  1.369800   99959.726562  118938.937500   \n",
       "4102287  6.640849e+05  2.925986  5.606311   16936.062500   48726.402344   \n",
       "1028220  6.245890e+04  0.889752  1.364045   69531.718750   36784.332031   \n",
       "1920149  1.074340e+05  2.418122  1.041257   17352.517578   60429.839844   \n",
       "...               ...       ...       ...            ...            ...   \n",
       "4628571  1.367926e+06  0.648911  4.957650  216401.265625  116440.851562   \n",
       "4628572  1.540464e+06 -0.568785  5.033163  191440.421875  134930.218750   \n",
       "4628573  1.694813e+06 -2.918931  5.825066   35132.878906  110081.000000   \n",
       "4628574  7.387971e+05  0.789625  5.037199   97912.656250  105132.671875   \n",
       "4628575  1.889988e+06 -1.190403  5.106238  213900.062500  192589.812500   \n",
       "\n",
       "         jet1_eta        jet1_e        jet2_pt  jet2_eta        jet2_e  \\\n",
       "1922897  0.574745  3.799173e+04   30211.220703  0.590351  3.592268e+04   \n",
       "2076601  0.153307  1.219211e+05   54682.148438 -1.216493  1.008361e+05   \n",
       "4102287  2.052103  1.928805e+05   33005.652344 -3.554208  5.774382e+05   \n",
       "1028220  2.508739  2.275718e+05   35335.957031  1.144695  6.129078e+04   \n",
       "1920149  0.916951  8.790906e+04   39658.742188 -0.124306  4.094811e+04   \n",
       "...           ...           ...            ...       ...           ...   \n",
       "4628571 -3.211884  1.447791e+06  114172.210938  1.745765  3.373078e+05   \n",
       "4628572  3.088001  1.482836e+06  115863.156250 -1.945162  4.136839e+05   \n",
       "4628573  3.609008  2.034103e+06   76587.546875 -2.216058  3.554840e+05   \n",
       "4628574 -0.351721  1.122496e+05   33879.730469  4.685478  1.835801e+06   \n",
       "4628575  2.780378  1.558812e+06  112864.968750 -2.325860  5.831626e+05   \n",
       "\n",
       "         njet30    intLumi  scale1fb   weights tipo  VBF label  \n",
       "1922897       2  36.099998  0.041837  1.510301  ggf          0  \n",
       "2076601       6  44.299999  0.000452  0.020022  ggf          0  \n",
       "4102287       2  58.450001  0.031009  1.812492  ggf          0  \n",
       "1028220       2  36.099998  0.045243  1.633280  ggf          0  \n",
       "1920149       2  36.099998  0.040848  1.474623  ggf          0  \n",
       "...         ...        ...       ...       ...  ...        ...  \n",
       "4628571       2  36.099998  0.000256  0.009256  vbf          1  \n",
       "4628572       3  36.099998  0.000305  0.011002  vbf          1  \n",
       "4628573       2   1.000000  0.000271  0.000271  vbf          1  \n",
       "4628574       3  36.099998  0.000282  0.010165  vbf          1  \n",
       "4628575       2  36.099998  0.000330  0.011909  vbf          1  \n",
       "\n",
       "[1227104 rows x 16 columns]"
      ]
     },
     "execution_count": 9,
     "metadata": {},
     "output_type": "execute_result"
    }
   ],
   "source": [
    "X_ggf_vbf"
   ]
  },
  {
   "cell_type": "code",
   "execution_count": 10,
   "metadata": {},
   "outputs": [],
   "source": [
    "X_train, X_val_test, y_train, y_val_test = train_test_split(X, y, test_size=0.3, random_state=228)\n",
    "X_test, X_val, y_test, y_val = train_test_split(X_val_test, y_val_test, test_size=0.5, random_state=228)"
   ]
  },
  {
   "cell_type": "code",
   "execution_count": 16,
   "metadata": {},
   "outputs": [],
   "source": [
    "params = { \"n_estimators\": 800,\n",
    "            \"max_depth\": 12,\n",
    "            \"learning_rate\": 0.5,\n",
    "            \"gamma\": 0.6,\n",
    "            \"min_child_weight\": 1,\n",
    "            \"reg_lambda\": 100,\n",
    "          #  \"scale_pos_weight\": scale_pos_weight,\n",
    "            \"eval_metric\": [\"logloss\", \"auc\"],\n",
    "            \"early_stopping_rounds\": 5,\n",
    "            \"objective\":\"binary:logistic\",\n",
    "            \"verbosity\": 1\n",
    "            }\n",
    "\n",
    "model = xgb.XGBClassifier(**params)"
   ]
  },
  {
   "cell_type": "code",
   "execution_count": 17,
   "metadata": {},
   "outputs": [
    {
     "data": {
      "text/plain": [
       "3556267    0\n",
       "4600529    1\n",
       "2212861    0\n",
       "260032     0\n",
       "4516133    1\n",
       "          ..\n",
       "2602793    0\n",
       "3371629    0\n",
       "343341     0\n",
       "1198883    0\n",
       "4427099    1\n",
       "Name: VBF label, Length: 858972, dtype: int64"
      ]
     },
     "execution_count": 17,
     "metadata": {},
     "output_type": "execute_result"
    }
   ],
   "source": [
    "y_train"
   ]
  },
  {
   "cell_type": "code",
   "execution_count": 18,
   "metadata": {},
   "outputs": [
    {
     "name": "stderr",
     "output_type": "stream",
     "text": [
      "c:\\Users\\jav90\\envs\\dpj_env\\lib\\site-packages\\xgboost\\data.py:312: FutureWarning: is_sparse is deprecated and will be removed in a future version. Check `isinstance(dtype, pd.SparseDtype)` instead.\n",
      "  if is_sparse(dtype):\n",
      "c:\\Users\\jav90\\envs\\dpj_env\\lib\\site-packages\\xgboost\\data.py:314: FutureWarning: is_categorical_dtype is deprecated and will be removed in a future version. Use isinstance(dtype, CategoricalDtype) instead\n",
      "  elif is_categorical_dtype(dtype) and enable_categorical:\n",
      "c:\\Users\\jav90\\envs\\dpj_env\\lib\\site-packages\\xgboost\\data.py:345: FutureWarning: is_categorical_dtype is deprecated and will be removed in a future version. Use isinstance(dtype, CategoricalDtype) instead\n",
      "  if is_categorical_dtype(dtype)\n",
      "c:\\Users\\jav90\\envs\\dpj_env\\lib\\site-packages\\xgboost\\data.py:336: FutureWarning: is_categorical_dtype is deprecated and will be removed in a future version. Use isinstance(dtype, CategoricalDtype) instead\n",
      "  return is_int or is_bool or is_float or is_categorical_dtype(dtype)\n",
      "c:\\Users\\jav90\\envs\\dpj_env\\lib\\site-packages\\xgboost\\data.py:440: FutureWarning: is_sparse is deprecated and will be removed in a future version. Check `isinstance(dtype, pd.SparseDtype)` instead.\n",
      "  if is_sparse(data):\n",
      "c:\\Users\\jav90\\envs\\dpj_env\\lib\\site-packages\\xgboost\\data.py:312: FutureWarning: is_sparse is deprecated and will be removed in a future version. Check `isinstance(dtype, pd.SparseDtype)` instead.\n",
      "  if is_sparse(dtype):\n",
      "c:\\Users\\jav90\\envs\\dpj_env\\lib\\site-packages\\xgboost\\data.py:314: FutureWarning: is_categorical_dtype is deprecated and will be removed in a future version. Use isinstance(dtype, CategoricalDtype) instead\n",
      "  elif is_categorical_dtype(dtype) and enable_categorical:\n",
      "c:\\Users\\jav90\\envs\\dpj_env\\lib\\site-packages\\xgboost\\data.py:345: FutureWarning: is_categorical_dtype is deprecated and will be removed in a future version. Use isinstance(dtype, CategoricalDtype) instead\n",
      "  if is_categorical_dtype(dtype)\n",
      "c:\\Users\\jav90\\envs\\dpj_env\\lib\\site-packages\\xgboost\\data.py:336: FutureWarning: is_categorical_dtype is deprecated and will be removed in a future version. Use isinstance(dtype, CategoricalDtype) instead\n",
      "  return is_int or is_bool or is_float or is_categorical_dtype(dtype)\n",
      "c:\\Users\\jav90\\envs\\dpj_env\\lib\\site-packages\\xgboost\\data.py:440: FutureWarning: is_sparse is deprecated and will be removed in a future version. Check `isinstance(dtype, pd.SparseDtype)` instead.\n",
      "  if is_sparse(data):\n"
     ]
    },
    {
     "name": "stdout",
     "output_type": "stream",
     "text": [
      "[0]\tvalidation_0-logloss:0.39586\tvalidation_0-auc:0.97091\n",
      "[1]\tvalidation_0-logloss:0.28695\tvalidation_0-auc:0.97432\n",
      "[2]\tvalidation_0-logloss:0.23480\tvalidation_0-auc:0.97619\n",
      "[3]\tvalidation_0-logloss:0.20760\tvalidation_0-auc:0.97745\n",
      "[4]\tvalidation_0-logloss:0.19327\tvalidation_0-auc:0.97802\n",
      "[5]\tvalidation_0-logloss:0.18537\tvalidation_0-auc:0.97853\n",
      "[6]\tvalidation_0-logloss:0.18113\tvalidation_0-auc:0.97882\n",
      "[7]\tvalidation_0-logloss:0.17864\tvalidation_0-auc:0.97904\n",
      "[8]\tvalidation_0-logloss:0.17742\tvalidation_0-auc:0.97909\n",
      "[9]\tvalidation_0-logloss:0.17661\tvalidation_0-auc:0.97919\n",
      "[10]\tvalidation_0-logloss:0.17623\tvalidation_0-auc:0.97921\n",
      "[11]\tvalidation_0-logloss:0.17602\tvalidation_0-auc:0.97923\n",
      "[12]\tvalidation_0-logloss:0.17584\tvalidation_0-auc:0.97924\n",
      "[13]\tvalidation_0-logloss:0.17578\tvalidation_0-auc:0.97926\n",
      "[14]\tvalidation_0-logloss:0.17571\tvalidation_0-auc:0.97927\n",
      "[15]\tvalidation_0-logloss:0.17568\tvalidation_0-auc:0.97928\n",
      "[16]\tvalidation_0-logloss:0.17564\tvalidation_0-auc:0.97929\n",
      "[17]\tvalidation_0-logloss:0.17563\tvalidation_0-auc:0.97929\n",
      "[18]\tvalidation_0-logloss:0.17553\tvalidation_0-auc:0.97931\n",
      "[19]\tvalidation_0-logloss:0.17553\tvalidation_0-auc:0.97932\n",
      "[20]\tvalidation_0-logloss:0.17556\tvalidation_0-auc:0.97931\n",
      "[21]\tvalidation_0-logloss:0.17554\tvalidation_0-auc:0.97931\n",
      "[22]\tvalidation_0-logloss:0.17552\tvalidation_0-auc:0.97931\n",
      "[23]\tvalidation_0-logloss:0.17555\tvalidation_0-auc:0.97931\n",
      "[24]\tvalidation_0-logloss:0.17551\tvalidation_0-auc:0.97933\n",
      "[25]\tvalidation_0-logloss:0.17554\tvalidation_0-auc:0.97932\n",
      "[26]\tvalidation_0-logloss:0.17554\tvalidation_0-auc:0.97932\n",
      "[27]\tvalidation_0-logloss:0.17554\tvalidation_0-auc:0.97931\n",
      "[28]\tvalidation_0-logloss:0.17552\tvalidation_0-auc:0.97932\n"
     ]
    },
    {
     "name": "stderr",
     "output_type": "stream",
     "text": [
      "c:\\Users\\jav90\\envs\\dpj_env\\lib\\site-packages\\xgboost\\data.py:312: FutureWarning: is_sparse is deprecated and will be removed in a future version. Check `isinstance(dtype, pd.SparseDtype)` instead.\n",
      "  if is_sparse(dtype):\n",
      "c:\\Users\\jav90\\envs\\dpj_env\\lib\\site-packages\\xgboost\\data.py:314: FutureWarning: is_categorical_dtype is deprecated and will be removed in a future version. Use isinstance(dtype, CategoricalDtype) instead\n",
      "  elif is_categorical_dtype(dtype) and enable_categorical:\n",
      "c:\\Users\\jav90\\envs\\dpj_env\\lib\\site-packages\\xgboost\\data.py:345: FutureWarning: is_categorical_dtype is deprecated and will be removed in a future version. Use isinstance(dtype, CategoricalDtype) instead\n",
      "  if is_categorical_dtype(dtype)\n",
      "c:\\Users\\jav90\\envs\\dpj_env\\lib\\site-packages\\xgboost\\data.py:336: FutureWarning: is_categorical_dtype is deprecated and will be removed in a future version. Use isinstance(dtype, CategoricalDtype) instead\n",
      "  return is_int or is_bool or is_float or is_categorical_dtype(dtype)\n"
     ]
    }
   ],
   "source": [
    "model.fit(X_train, y_train, eval_set=[(X_val, y_val)], verbose=True)\n",
    "test_predict = model.predict(X_test)\n"
   ]
  },
  {
   "cell_type": "code",
   "execution_count": 21,
   "metadata": {},
   "outputs": [
    {
     "name": "stderr",
     "output_type": "stream",
     "text": [
      "c:\\Users\\jav90\\envs\\dpj_env\\lib\\site-packages\\xgboost\\data.py:312: FutureWarning: is_sparse is deprecated and will be removed in a future version. Check `isinstance(dtype, pd.SparseDtype)` instead.\n",
      "  if is_sparse(dtype):\n",
      "c:\\Users\\jav90\\envs\\dpj_env\\lib\\site-packages\\xgboost\\data.py:314: FutureWarning: is_categorical_dtype is deprecated and will be removed in a future version. Use isinstance(dtype, CategoricalDtype) instead\n",
      "  elif is_categorical_dtype(dtype) and enable_categorical:\n",
      "c:\\Users\\jav90\\envs\\dpj_env\\lib\\site-packages\\xgboost\\data.py:345: FutureWarning: is_categorical_dtype is deprecated and will be removed in a future version. Use isinstance(dtype, CategoricalDtype) instead\n",
      "  if is_categorical_dtype(dtype)\n",
      "c:\\Users\\jav90\\envs\\dpj_env\\lib\\site-packages\\xgboost\\data.py:336: FutureWarning: is_categorical_dtype is deprecated and will be removed in a future version. Use isinstance(dtype, CategoricalDtype) instead\n",
      "  return is_int or is_bool or is_float or is_categorical_dtype(dtype)\n",
      "c:\\Users\\jav90\\envs\\dpj_env\\lib\\site-packages\\sklearn\\utils\\validation.py:605: FutureWarning: is_sparse is deprecated and will be removed in a future version. Check `isinstance(dtype, pd.SparseDtype)` instead.\n",
      "  if is_sparse(pd_dtype):\n",
      "c:\\Users\\jav90\\envs\\dpj_env\\lib\\site-packages\\sklearn\\utils\\validation.py:614: FutureWarning: is_sparse is deprecated and will be removed in a future version. Check `isinstance(dtype, pd.SparseDtype)` instead.\n",
      "  if is_sparse(pd_dtype) or not is_extension_array_dtype(pd_dtype):\n",
      "c:\\Users\\jav90\\envs\\dpj_env\\lib\\site-packages\\sklearn\\utils\\validation.py:605: FutureWarning: is_sparse is deprecated and will be removed in a future version. Check `isinstance(dtype, pd.SparseDtype)` instead.\n",
      "  if is_sparse(pd_dtype):\n",
      "c:\\Users\\jav90\\envs\\dpj_env\\lib\\site-packages\\sklearn\\utils\\validation.py:614: FutureWarning: is_sparse is deprecated and will be removed in a future version. Check `isinstance(dtype, pd.SparseDtype)` instead.\n",
      "  if is_sparse(pd_dtype) or not is_extension_array_dtype(pd_dtype):\n",
      "c:\\Users\\jav90\\envs\\dpj_env\\lib\\site-packages\\sklearn\\utils\\validation.py:605: FutureWarning: is_sparse is deprecated and will be removed in a future version. Check `isinstance(dtype, pd.SparseDtype)` instead.\n",
      "  if is_sparse(pd_dtype):\n",
      "c:\\Users\\jav90\\envs\\dpj_env\\lib\\site-packages\\sklearn\\utils\\validation.py:614: FutureWarning: is_sparse is deprecated and will be removed in a future version. Check `isinstance(dtype, pd.SparseDtype)` instead.\n",
      "  if is_sparse(pd_dtype) or not is_extension_array_dtype(pd_dtype):\n"
     ]
    },
    {
     "data": {
      "text/plain": [
       "0.9339313072484869"
      ]
     },
     "execution_count": 21,
     "metadata": {},
     "output_type": "execute_result"
    }
   ],
   "source": [
    "model.score(X_test, y_test)"
   ]
  },
  {
   "cell_type": "code",
   "execution_count": 22,
   "metadata": {},
   "outputs": [
    {
     "name": "stdout",
     "output_type": "stream",
     "text": [
      "Test accuracy 0.9339313072484869\n"
     ]
    },
    {
     "name": "stderr",
     "output_type": "stream",
     "text": [
      "c:\\Users\\jav90\\envs\\dpj_env\\lib\\site-packages\\sklearn\\utils\\validation.py:605: FutureWarning: is_sparse is deprecated and will be removed in a future version. Check `isinstance(dtype, pd.SparseDtype)` instead.\n",
      "  if is_sparse(pd_dtype):\n",
      "c:\\Users\\jav90\\envs\\dpj_env\\lib\\site-packages\\sklearn\\utils\\validation.py:614: FutureWarning: is_sparse is deprecated and will be removed in a future version. Check `isinstance(dtype, pd.SparseDtype)` instead.\n",
      "  if is_sparse(pd_dtype) or not is_extension_array_dtype(pd_dtype):\n",
      "c:\\Users\\jav90\\envs\\dpj_env\\lib\\site-packages\\sklearn\\utils\\validation.py:605: FutureWarning: is_sparse is deprecated and will be removed in a future version. Check `isinstance(dtype, pd.SparseDtype)` instead.\n",
      "  if is_sparse(pd_dtype):\n",
      "c:\\Users\\jav90\\envs\\dpj_env\\lib\\site-packages\\sklearn\\utils\\validation.py:614: FutureWarning: is_sparse is deprecated and will be removed in a future version. Check `isinstance(dtype, pd.SparseDtype)` instead.\n",
      "  if is_sparse(pd_dtype) or not is_extension_array_dtype(pd_dtype):\n",
      "c:\\Users\\jav90\\envs\\dpj_env\\lib\\site-packages\\sklearn\\utils\\validation.py:605: FutureWarning: is_sparse is deprecated and will be removed in a future version. Check `isinstance(dtype, pd.SparseDtype)` instead.\n",
      "  if is_sparse(pd_dtype):\n",
      "c:\\Users\\jav90\\envs\\dpj_env\\lib\\site-packages\\sklearn\\utils\\validation.py:614: FutureWarning: is_sparse is deprecated and will be removed in a future version. Check `isinstance(dtype, pd.SparseDtype)` instead.\n",
      "  if is_sparse(pd_dtype) or not is_extension_array_dtype(pd_dtype):\n"
     ]
    }
   ],
   "source": [
    "test_accuracy = accuracy_score(y_test, test_predict)\n",
    "print(\"Test accuracy\", test_accuracy)"
   ]
  },
  {
   "cell_type": "code",
   "execution_count": 23,
   "metadata": {},
   "outputs": [
    {
     "name": "stderr",
     "output_type": "stream",
     "text": [
      "c:\\Users\\jav90\\envs\\dpj_env\\lib\\site-packages\\sklearn\\utils\\validation.py:605: FutureWarning: is_sparse is deprecated and will be removed in a future version. Check `isinstance(dtype, pd.SparseDtype)` instead.\n",
      "  if is_sparse(pd_dtype):\n",
      "c:\\Users\\jav90\\envs\\dpj_env\\lib\\site-packages\\sklearn\\utils\\validation.py:614: FutureWarning: is_sparse is deprecated and will be removed in a future version. Check `isinstance(dtype, pd.SparseDtype)` instead.\n",
      "  if is_sparse(pd_dtype) or not is_extension_array_dtype(pd_dtype):\n",
      "c:\\Users\\jav90\\envs\\dpj_env\\lib\\site-packages\\sklearn\\utils\\validation.py:605: FutureWarning: is_sparse is deprecated and will be removed in a future version. Check `isinstance(dtype, pd.SparseDtype)` instead.\n",
      "  if is_sparse(pd_dtype):\n",
      "c:\\Users\\jav90\\envs\\dpj_env\\lib\\site-packages\\sklearn\\utils\\validation.py:614: FutureWarning: is_sparse is deprecated and will be removed in a future version. Check `isinstance(dtype, pd.SparseDtype)` instead.\n",
      "  if is_sparse(pd_dtype) or not is_extension_array_dtype(pd_dtype):\n",
      "c:\\Users\\jav90\\envs\\dpj_env\\lib\\site-packages\\sklearn\\utils\\validation.py:605: FutureWarning: is_sparse is deprecated and will be removed in a future version. Check `isinstance(dtype, pd.SparseDtype)` instead.\n",
      "  if is_sparse(pd_dtype):\n",
      "c:\\Users\\jav90\\envs\\dpj_env\\lib\\site-packages\\sklearn\\utils\\validation.py:614: FutureWarning: is_sparse is deprecated and will be removed in a future version. Check `isinstance(dtype, pd.SparseDtype)` instead.\n",
      "  if is_sparse(pd_dtype) or not is_extension_array_dtype(pd_dtype):\n"
     ]
    },
    {
     "data": {
      "image/png": "[encoded data removed]",
      "text/plain": [
       "<Figure size 800x600 with 1 Axes>"
      ]
     },
     "metadata": {},
     "output_type": "display_data"
    }
   ],
   "source": [
    "cm = confusion_matrix(y_test, test_predict)\n",
    "\n",
    "plt.figure(figsize=(8, 6))\n",
    "sns.heatmap(cm, annot=True, fmt=\"d\", cmap=\"Blues\", cbar=False)\n",
    "plt.xlabel('Predicción')\n",
    "plt.ylabel('Valor Real')\n",
    "plt.title('Matriz de Confusión')\n",
    "plt.show()"
   ]
  },
  {
   "cell_type": "code",
   "execution_count": 24,
   "metadata": {},
   "outputs": [
    {
     "data": {
      "text/plain": [
       "<matplotlib.legend.Legend at 0x11b80229340>"
      ]
     },
     "execution_count": 24,
     "metadata": {},
     "output_type": "execute_result"
    },
    {
     "data": {
      "image/png": "[encoded data removed]",
      "text/plain": [
       "<Figure size 800x600 with 1 Axes>"
      ]
     },
     "metadata": {},
     "output_type": "display_data"
    }
   ],
   "source": [
    "ggf_as_ggf = cm[0,0]\n",
    "ggf_as_vbf = cm[0,1]\n",
    "vbf_as_ggf = cm[1,0]\n",
    "vbf_as_vbf = cm[1,1]\n",
    "bars1 = np.array([ggf_as_ggf, ggf_as_vbf]) / (ggf_as_ggf+ggf_as_vbf)#+df_not_used[df_not_used['tipo'] == 'ggf'].shape[0])\n",
    "bars2 = np.array([vbf_as_ggf, vbf_as_vbf]) / (vbf_as_ggf+vbf_as_vbf)#+df_not_used[df_not_used['tipo'] == 'vbf'].shape[0])\n",
    "pos1 = [0,3]\n",
    "pos2 = [1,4]\n",
    "plt.figure(figsize=(8, 6))\n",
    "plt.bar(pos1, bars1, width=.8, color='sandybrown', edgecolor='white', label='True ggF')\n",
    "plt.bar(pos2, bars2, width=.8, color=\"navy\", edgecolor='white', label='True VBF')\n",
    "plt.xticks([.5,3.5] ,['Classified as ggF','Classified as VBF'])\n",
    "\n",
    "for i in range(2):\n",
    "     plt.text(pos1[i], bars1[i] + 0.01, str(round(bars1[i],3)), ha='center')\n",
    "     plt.text(pos2[i], bars2[i] + 0.01, str(round(bars2[i],3)), ha='center')\n",
    "plt.title(\"Classify with XGbBoost\")\n",
    "plt.legend()"
   ]
  },
  {
   "cell_type": "code",
   "execution_count": 25,
   "metadata": {},
   "outputs": [
    {
     "name": "stderr",
     "output_type": "stream",
     "text": [
      "c:\\Users\\jav90\\envs\\dpj_env\\lib\\site-packages\\sklearn\\utils\\validation.py:605: FutureWarning: is_sparse is deprecated and will be removed in a future version. Check `isinstance(dtype, pd.SparseDtype)` instead.\n",
      "  if is_sparse(pd_dtype):\n",
      "c:\\Users\\jav90\\envs\\dpj_env\\lib\\site-packages\\sklearn\\utils\\validation.py:614: FutureWarning: is_sparse is deprecated and will be removed in a future version. Check `isinstance(dtype, pd.SparseDtype)` instead.\n",
      "  if is_sparse(pd_dtype) or not is_extension_array_dtype(pd_dtype):\n",
      "c:\\Users\\jav90\\envs\\dpj_env\\lib\\site-packages\\sklearn\\utils\\validation.py:605: FutureWarning: is_sparse is deprecated and will be removed in a future version. Check `isinstance(dtype, pd.SparseDtype)` instead.\n",
      "  if is_sparse(pd_dtype):\n",
      "c:\\Users\\jav90\\envs\\dpj_env\\lib\\site-packages\\sklearn\\utils\\validation.py:614: FutureWarning: is_sparse is deprecated and will be removed in a future version. Check `isinstance(dtype, pd.SparseDtype)` instead.\n",
      "  if is_sparse(pd_dtype) or not is_extension_array_dtype(pd_dtype):\n",
      "c:\\Users\\jav90\\envs\\dpj_env\\lib\\site-packages\\sklearn\\utils\\validation.py:605: FutureWarning: is_sparse is deprecated and will be removed in a future version. Check `isinstance(dtype, pd.SparseDtype)` instead.\n",
      "  if is_sparse(pd_dtype):\n",
      "c:\\Users\\jav90\\envs\\dpj_env\\lib\\site-packages\\sklearn\\utils\\validation.py:614: FutureWarning: is_sparse is deprecated and will be removed in a future version. Check `isinstance(dtype, pd.SparseDtype)` instead.\n",
      "  if is_sparse(pd_dtype) or not is_extension_array_dtype(pd_dtype):\n"
     ]
    },
    {
     "name": "stdout",
     "output_type": "stream",
     "text": [
      "              precision    recall  f1-score   support\n",
      "\n",
      "           0       0.94      0.95      0.95    110401\n",
      "           1       0.93      0.91      0.92     73665\n",
      "\n",
      "    accuracy                           0.93    184066\n",
      "   macro avg       0.93      0.93      0.93    184066\n",
      "weighted avg       0.93      0.93      0.93    184066\n",
      "\n"
     ]
    }
   ],
   "source": [
    "print(classification_report(y_test, test_predict))\n"
   ]
  },
  {
   "cell_type": "code",
   "execution_count": null,
   "metadata": {},
   "outputs": [],
   "source": [
    "params = { \"n_estimators\": 800,\n",
    "            \"max_depth\": 12,\n",
    "            \"learning_rate\": 0.5,\n",
    "            \"gamma\": 0.6,\n",
    "            \"min_child_weight\": 1,\n",
    "            \"reg_lambda\": 100,\n",
    "          #  \"scale_pos_weight\": scale_pos_weight,\n",
    "            \"eval_metric\": [\"logloss\", \"auc\"],\n",
    "            \"early_stopping_rounds\": 5,\n",
    "            \"objective\":\"binary:logistic\",\n",
    "            \"verbosity\": 1\n",
    "            }\n"
   ]
  },
  {
   "cell_type": "code",
   "execution_count": 50,
   "metadata": {},
   "outputs": [
    {
     "name": "stderr",
     "output_type": "stream",
     "text": [
      "c:\\Users\\jav90\\envs\\dpj_env\\lib\\site-packages\\sklearn\\utils\\validation.py:605: FutureWarning: is_sparse is deprecated and will be removed in a future version. Check `isinstance(dtype, pd.SparseDtype)` instead.\n",
      "  if is_sparse(pd_dtype):\n",
      "c:\\Users\\jav90\\envs\\dpj_env\\lib\\site-packages\\sklearn\\utils\\validation.py:614: FutureWarning: is_sparse is deprecated and will be removed in a future version. Check `isinstance(dtype, pd.SparseDtype)` instead.\n",
      "  if is_sparse(pd_dtype) or not is_extension_array_dtype(pd_dtype):\n",
      "c:\\Users\\jav90\\envs\\dpj_env\\lib\\site-packages\\sklearn\\utils\\validation.py:605: FutureWarning: is_sparse is deprecated and will be removed in a future version. Check `isinstance(dtype, pd.SparseDtype)` instead.\n",
      "  if is_sparse(pd_dtype):\n",
      "c:\\Users\\jav90\\envs\\dpj_env\\lib\\site-packages\\sklearn\\utils\\validation.py:614: FutureWarning: is_sparse is deprecated and will be removed in a future version. Check `isinstance(dtype, pd.SparseDtype)` instead.\n",
      "  if is_sparse(pd_dtype) or not is_extension_array_dtype(pd_dtype):\n",
      "c:\\Users\\jav90\\envs\\dpj_env\\lib\\site-packages\\sklearn\\utils\\validation.py:605: FutureWarning: is_sparse is deprecated and will be removed in a future version. Check `isinstance(dtype, pd.SparseDtype)` instead.\n",
      "  if is_sparse(pd_dtype):\n",
      "c:\\Users\\jav90\\envs\\dpj_env\\lib\\site-packages\\sklearn\\utils\\validation.py:614: FutureWarning: is_sparse is deprecated and will be removed in a future version. Check `isinstance(dtype, pd.SparseDtype)` instead.\n",
      "  if is_sparse(pd_dtype) or not is_extension_array_dtype(pd_dtype):\n"
     ]
    }
   ],
   "source": [
    "params_grid = { \"n_estimators\": 800,\n",
    "            \"max_depth\": 12,\n",
    "            \"learning_rate\": 0.5,\n",
    "            \"gamma\": [0.1, 0.6, 2, 6],#, 100, 1000],\n",
    "            \"min_child_weight\": [1, 20, 50],\n",
    "            \"reg_lambda\": [10, 50, 100, 150],\n",
    "            #\"eval_metric\": [\"auc\", \"logloss\"],\n",
    "            # \"scale_pos_weight\":[scale_pos_weight/4, scale_pos_weight/2, scale_pos_weight],\n",
    "            }\n",
    "\n",
    "xbgClass_grid_cv = GridSearchCV(xgb.XGBClassifier(),\n",
    "                                 {#'min_samples_split': np.linspace(0.1, 1.0, 10),\n",
    "                                 'criterion': ['accuaracy'],\n",
    "                                'max_depth':[12], \n",
    "                                'n_estimators':[800],\n",
    "                                'learning_rate':[0.5],\n",
    "                                \"gamma\": [0.1, 0.6, 2, 6],#, 100, 1000],\n",
    "                                \"min_child_weight\": [1, 20, 50],\n",
    "                                \"reg_lambda\": [10, 50, 100]},\n",
    "                                cv=5,\n",
    "                                n_jobs=-1).fit(X_train, y_train)"
   ]
  },
  {
   "cell_type": "code",
   "execution_count": 66,
   "metadata": {},
   "outputs": [
    {
     "data": {
      "text/plain": [
       "0.9575682569194663"
      ]
     },
     "execution_count": 66,
     "metadata": {},
     "output_type": "execute_result"
    }
   ],
   "source": [
    "xbgClass_grid_cv.best_score_"
   ]
  },
  {
   "cell_type": "code",
   "execution_count": 70,
   "metadata": {},
   "outputs": [
    {
     "data": {
      "text/plain": [
       "['gridsearchCV_xgbCLass_11_oct.pkl']"
      ]
     },
     "execution_count": 70,
     "metadata": {},
     "output_type": "execute_result"
    }
   ],
   "source": [
    "joblib.dump(xbgClass_grid_cv, 'gridsearchCV_xgbCLass_11_oct.pkl')"
   ]
  },
  {
   "cell_type": "code",
   "execution_count": 28,
   "metadata": {},
   "outputs": [
    {
     "ename": "UnpicklingError",
     "evalue": "invalid load key, '\\x0d'.",
     "output_type": "error",
     "traceback": [
      "\u001b[1;31m---------------------------------------------------------------------------\u001b[0m",
      "\u001b[1;31mUnpicklingError\u001b[0m                           Traceback (most recent call last)",
      "\u001b[1;32mc:\\Users\\jav90\\Desktop\\dpj\\production_analysis\\analisis_javier\\ml.ipynb Celda 22\u001b[0m line \u001b[0;36m1\n\u001b[1;32m----> <a href='vscode-notebook-cell:/c%3A/Users/jav90/Desktop/dpj/production_analysis/analisis_javier/ml.ipynb#X34sZmlsZQ%3D%3D?line=0'>1</a>\u001b[0m pkl_model \u001b[39m=\u001b[39m cloudpickle\u001b[39m.\u001b[39;49mload(\u001b[39mopen\u001b[39;49m(\u001b[39m'\u001b[39;49m\u001b[39mgridsearchCV_xgbCLass_11_oct.pkl\u001b[39;49m\u001b[39m'\u001b[39;49m, \u001b[39m'\u001b[39;49m\u001b[39mrb\u001b[39;49m\u001b[39m'\u001b[39;49m))\n\u001b[0;32m      <a href='vscode-notebook-cell:/c%3A/Users/jav90/Desktop/dpj/production_analysis/analisis_javier/ml.ipynb#X34sZmlsZQ%3D%3D?line=1'>2</a>\u001b[0m pkl_model\u001b[39m.\u001b[39mbest_score_\n",
      "\u001b[1;31mUnpicklingError\u001b[0m: invalid load key, '\\x0d'."
     ]
    }
   ],
   "source": [
    "pkl_model = cloudpickle.load(open('gridsearchCV_xgbCLass_11_oct.pkl', 'rb'))\n",
    "pkl_model.best_score_"
   ]
  }
 ],
 "metadata": {
  "kernelspec": {
   "display_name": "dpj_env",
   "language": "python",
   "name": "python3"
  },
  "language_info": {
   "codemirror_mode": {
    "name": "ipython",
    "version": 3
   },
   "file_extension": ".py",
   "mimetype": "text/x-python",
   "name": "python",
   "nbconvert_exporter": "python",
   "pygments_lexer": "ipython3",
   "version": "3.9.6"
  }
 },
 "nbformat": 4,
 "nbformat_minor": 2
}
